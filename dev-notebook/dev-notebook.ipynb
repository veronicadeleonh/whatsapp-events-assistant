{
 "cells": [
  {
   "cell_type": "markdown",
   "metadata": {},
   "source": [
    "#### Develop an agent function to process a list of WhatsApp messages and extract events.\n",
    "\n",
    "1. Load the WhatsApp messages from a file.\n",
    "2. Process the messages to extract events.\n",
    "3. Visualize the events in a table."
   ]
  },
  {
   "cell_type": "code",
   "execution_count": 15,
   "metadata": {},
   "outputs": [],
   "source": [
    "# Libraries & functions to pretty print text and JSON responses, just needed for the notebook\n",
    "import textwrap # Text wrapping\n",
    "from pprint import pprint # Pretty printing json\n",
    "\n",
    "def pretty_print(response):\n",
    "    if isinstance(response, (str, dict)):\n",
    "        print(textwrap.fill(response, width=80))\n",
    "    else:\n",
    "        response_dict = response.model_dump()\n",
    "        pprint(response_dict, width=80)"
   ]
  },
  {
   "cell_type": "code",
   "execution_count": 16,
   "metadata": {},
   "outputs": [],
   "source": [
    "# Open the file\n",
    "\n",
    "with open('../dummy-data/test-file.txt', 'r', encoding='utf-8') as file:\n",
    "    sample_message_history = file.read()\n"
   ]
  },
  {
   "cell_type": "code",
   "execution_count": 17,
   "metadata": {},
   "outputs": [
    {
     "name": "stdout",
     "output_type": "stream",
     "text": [
      "[01/10/2023, 10:15 AM] Isabel: Hey everyone! We should plan to watch the match\n",
      "on Tuesday! Who's in? ⚽️ [01/10/2023, 10:16 AM] Ana: I'm in! Can't wait to see\n",
      "the game! 🙌 [01/10/2023, 10:17 AM] Carmen: I have plans this weekend, so I can't\n",
      "make it. 😞 [01/10/2023, 10:18 AM] Julia: Count me in! Where are we watching it?\n",
      "[01/10/2023, 10:19 AM] Laura: I’ll join too! Let’s make it a fun day! 🎉\n",
      "[01/10/2023, 10:20 AM] Sofia: I might be able to come, but I’ll confirm later.\n",
      "[01/10/2023, 10:21 AM] Isabel: Great! Let’s meet at my place then.  [01/10/2023,\n",
      "10:22 AM] Isabel: Also, there’s a friendly match next Friday. Anyone interested?\n",
      "[01/10/2023, 10:23 AM] Ana: I can’t make it on Friday. I have a meeting. 😩\n",
      "[01/10/2023, 10:24 AM] Carmen: I’m free! I’d love to join!  [01/10/2023, 10:25\n",
      "AM] Julia: I’ll be there too!  [01/10/2023, 10:26 AM] Laura: I can’t do\n",
      "Wednesday, unfortunately.  [01/10/2023, 10:27 AM] Sofia: I’ll join for the\n",
      "friendly match!  [01/10/2023, 10:28 AM] Isabel: Awesome! So far we have Carmen,\n",
      "Julia, and Sofia for Wednesday.  [01/10/2023, 10:29 AM] Isabel: Lastly, there’s\n",
      "a big tournament next month. We should plan to watch the finals together!\n",
      "[01/10/2023, 10:30 AM] Ana: I’m definitely in for the finals!  [01/10/2023,\n",
      "10:31 AM] Carmen: Same here! I wouldn’t miss it!  [01/10/2023, 10:32 AM] Julia:\n",
      "Count me in as well!  [01/10/2023, 10:33 AM] Laura: I’ll be there!  [01/10/2023,\n",
      "10:34 AM] Sofia: I’ll join too! Let’s make it a big event! 🎊\n"
     ]
    }
   ],
   "source": [
    "pretty_print(sample_message_history)"
   ]
  },
  {
   "cell_type": "code",
   "execution_count": 18,
   "metadata": {},
   "outputs": [],
   "source": [
    "from datetime import datetime\n",
    "import re\n",
    "\n",
    "def format_message_history(sample_message_history):\n",
    "    # Define a regex pattern to find timestamps in the format [DD/MM/YY, HH:MM:SS]\n",
    "    pattern = r'\\[(\\d{2}/\\d{2}/\\d{2}), (\\d{2}:\\d{2}:\\d{2})\\]'\n",
    "    \n",
    "    # Function to replace each timestamp with the desired format\n",
    "    def replace_timestamp(match):\n",
    "        date_str = match.group(1)  # Get the date part\n",
    "        time_str = match.group(2)  # Get the time part\n",
    "        # Combine date and time for parsing\n",
    "        full_datetime_str = f\"{date_str} {time_str}\"\n",
    "        # Parse the datetime\n",
    "        message_datetime = datetime.strptime(full_datetime_str, \"%d/%m/%y %H:%M:%S\")\n",
    "        # Get the day of the week\n",
    "        day_of_week = message_datetime.strftime(\"%A\")\n",
    "        # Return the formatted timestamp with the day of the week\n",
    "        return f\"[{date_str}, {day_of_week} {time_str}]\"\n",
    "\n",
    "    # Replace all timestamps in the message history\n",
    "    formatted_message_history = re.sub(pattern, replace_timestamp, sample_message_history)\n",
    "    \n",
    "    return formatted_message_history"
   ]
  },
  {
   "cell_type": "code",
   "execution_count": 19,
   "metadata": {},
   "outputs": [
    {
     "name": "stdout",
     "output_type": "stream",
     "text": [
      "[01/10/2023, 10:15 AM] Isabel: Hey everyone! We should plan to watch the match on Tuesday! Who's in? ⚽️\n",
      "[01/10/2023, 10:16 AM] Ana: I'm in! Can't wait to see the game! 🙌\n",
      "[01/10/2023, 10:17 AM] Carmen: I have plans this weekend, so I can't make it. 😞\n",
      "[01/10/2023, 10:18 AM] Julia: Count me in! Where are we watching it? \n",
      "[01/10/2023, 10:19 AM] Laura: I’ll join too! Let’s make it a fun day! 🎉\n",
      "[01/10/2023, 10:20 AM] Sofia: I might be able to come, but I’ll confirm later. \n",
      "[01/10/2023, 10:21 AM] Isabel: Great! Let’s meet at my place then. \n",
      "[01/10/2023, 10:22 AM] Isabel: Also, there’s a friendly match next Friday. Anyone interested?\n",
      "[01/10/2023, 10:23 AM] Ana: I can’t make it on Friday. I have a meeting. 😩\n",
      "[01/10/2023, 10:24 AM] Carmen: I’m free! I’d love to join! \n",
      "[01/10/2023, 10:25 AM] Julia: I’ll be there too! \n",
      "[01/10/2023, 10:26 AM] Laura: I can’t do Wednesday, unfortunately. \n",
      "[01/10/2023, 10:27 AM] Sofia: I’ll join for the friendly match! \n",
      "[01/10/2023, 10:28 AM] Isabel: Awesome! So far we have Carmen, Julia, and Sofia for Wednesday. \n",
      "[01/10/2023, 10:29 AM] Isabel: Lastly, there’s a big tournament next month. We should plan to watch the finals together!\n",
      "[01/10/2023, 10:30 AM] Ana: I’m definitely in for the finals! \n",
      "[01/10/2023, 10:31 AM] Carmen: Same here! I wouldn’t miss it! \n",
      "[01/10/2023, 10:32 AM] Julia: Count me in as well! \n",
      "[01/10/2023, 10:33 AM] Laura: I’ll be there! \n",
      "[01/10/2023, 10:34 AM] Sofia: I’ll join too! Let’s make it a big event! 🎊\n"
     ]
    }
   ],
   "source": [
    "formatted_history = format_message_history(sample_message_history)\n",
    "print(formatted_history)"
   ]
  },
  {
   "cell_type": "code",
   "execution_count": 27,
   "metadata": {},
   "outputs": [],
   "source": [
    "import sys\n",
    "import os\n",
    "sys.path.append(os.path.abspath(\"..\"))\n",
    "from pydantic import BaseModel, Field\n",
    "from openai import OpenAI\n",
    "from dotenv import load_dotenv\n",
    "from agent.prompts import SYSTEM_PROMPT\n",
    "\n",
    "load_dotenv()\n",
    "\n",
    "client = OpenAI()\n",
    "\n",
    "class CalendarEvent(BaseModel):\n",
    "    name: str = Field(description=\"The name of the event\")\n",
    "    event_date: str = Field(description=\"The date of the event. Not the date the message timestamp.\")\n",
    "    time: str = Field(description=\"The time of the event\")\n",
    "    participants: list[str] = Field(description=\"The participants of the event\")\n",
    "    number_of_participants: int = Field(description=\"The number of participants of the event\")\n",
    "    not_attending: list[str] = Field(description=\"The people who are not attending the event\")\n",
    "    didnt_confirm: list[str] = Field(description=\"The people who didn't confirm the event\")\n",
    "    location: str = Field(description=\"The location of the event\")\n",
    "\n",
    "class CalendarEvents(BaseModel):\n",
    "    events: list[CalendarEvent]\n",
    "\n",
    "completion = client.beta.chat.completions.parse(\n",
    "    model=\"gpt-4o-mini\",\n",
    "    messages=[\n",
    "        {\"role\": \"system\", \"content\": SYSTEM_PROMPT},\n",
    "        {\"role\": \"user\", \"content\": formatted_history},\n",
    "    ],\n",
    "    response_format=CalendarEvents,\n",
    ")\n",
    "\n",
    "response = completion.choices[0].message.parsed"
   ]
  },
  {
   "cell_type": "code",
   "execution_count": 317,
   "metadata": {},
   "outputs": [
    {
     "name": "stdout",
     "output_type": "stream",
     "text": [
      "{'audio': None,\n",
      " 'content': '{\"events\":[{\"name\":\"Game from '\n",
      "            'yesterday\",\"event_date\":\"03/02/25\",\"time\":\"N/A\",\"participants\":[\"Mario\",\"Carmen\",\"Maria\",\"Sofia\",\"Ana\",\"Julia\",\"Isabel\",\"Paula\",\"Victoria\"],\"number_of_participants\":9,\"not_attending\":[\"Elena\"],\"didnt_confirm\":[],\"location\":\"Indoor '\n",
      "            'court\"},{\"name\":\"Pizza '\n",
      "            'night\",\"event_date\":\"04/02/25\",\"time\":\"20:00\",\"participants\":[\"Julia\",\"Maria\",\"Sofia\",\"Ana\",\"Laura\",\"Carmen\",\"Elena\",\"Isabel\",\"Paula\"],\"number_of_participants\":9,\"not_attending\":[\"Victoria\"],\"didnt_confirm\":[],\"location\":\"Julia\\'s '\n",
      "            'place\"},{\"name\":\"Sauna '\n",
      "            'outing\",\"event_date\":\"13/02/25\",\"time\":\"N/A\",\"participants\":[\"Sofia\",\"Ana\",\"Julia\",\"Elena\",\"Isabel\"],\"number_of_participants\":5,\"not_attending\":[\"Maria\",\"Victoria\"],\"didnt_confirm\":[\"Paula\"],\"location\":\"N/A\"}]}',\n",
      " 'function_call': None,\n",
      " 'parsed': {'events': [{'didnt_confirm': [],\n",
      "                        'event_date': '03/02/25',\n",
      "                        'location': 'Indoor court',\n",
      "                        'name': 'Game from yesterday',\n",
      "                        'not_attending': ['Elena'],\n",
      "                        'number_of_participants': 9,\n",
      "                        'participants': ['Mario',\n",
      "                                         'Carmen',\n",
      "                                         'Maria',\n",
      "                                         'Sofia',\n",
      "                                         'Ana',\n",
      "                                         'Julia',\n",
      "                                         'Isabel',\n",
      "                                         'Paula',\n",
      "                                         'Victoria'],\n",
      "                        'time': 'N/A'},\n",
      "                       {'didnt_confirm': [],\n",
      "                        'event_date': '04/02/25',\n",
      "                        'location': \"Julia's place\",\n",
      "                        'name': 'Pizza night',\n",
      "                        'not_attending': ['Victoria'],\n",
      "                        'number_of_participants': 9,\n",
      "                        'participants': ['Julia',\n",
      "                                         'Maria',\n",
      "                                         'Sofia',\n",
      "                                         'Ana',\n",
      "                                         'Laura',\n",
      "                                         'Carmen',\n",
      "                                         'Elena',\n",
      "                                         'Isabel',\n",
      "                                         'Paula'],\n",
      "                        'time': '20:00'},\n",
      "                       {'didnt_confirm': ['Paula'],\n",
      "                        'event_date': '13/02/25',\n",
      "                        'location': 'N/A',\n",
      "                        'name': 'Sauna outing',\n",
      "                        'not_attending': ['Maria', 'Victoria'],\n",
      "                        'number_of_participants': 5,\n",
      "                        'participants': ['Sofia',\n",
      "                                         'Ana',\n",
      "                                         'Julia',\n",
      "                                         'Elena',\n",
      "                                         'Isabel'],\n",
      "                        'time': 'N/A'}]},\n",
      " 'refusal': None,\n",
      " 'role': 'assistant',\n",
      " 'tool_calls': []}\n"
     ]
    }
   ],
   "source": [
    "pretty_print(completion.choices[0].message)"
   ]
  },
  {
   "cell_type": "code",
   "execution_count": 318,
   "metadata": {},
   "outputs": [
    {
     "data": {
      "text/plain": [
       "[CalendarEvent(name='Game from yesterday', event_date='03/02/25', time='N/A', participants=['Mario', 'Carmen', 'Maria', 'Sofia', 'Ana', 'Julia', 'Isabel', 'Paula', 'Victoria'], number_of_participants=9, not_attending=['Elena'], didnt_confirm=[], location='Indoor court'),\n",
       " CalendarEvent(name='Pizza night', event_date='04/02/25', time='20:00', participants=['Julia', 'Maria', 'Sofia', 'Ana', 'Laura', 'Carmen', 'Elena', 'Isabel', 'Paula'], number_of_participants=9, not_attending=['Victoria'], didnt_confirm=[], location=\"Julia's place\"),\n",
       " CalendarEvent(name='Sauna outing', event_date='13/02/25', time='N/A', participants=['Sofia', 'Ana', 'Julia', 'Elena', 'Isabel'], number_of_participants=5, not_attending=['Maria', 'Victoria'], didnt_confirm=['Paula'], location='N/A')]"
      ]
     },
     "execution_count": 318,
     "metadata": {},
     "output_type": "execute_result"
    }
   ],
   "source": [
    "response.events"
   ]
  },
  {
   "cell_type": "code",
   "execution_count": 319,
   "metadata": {},
   "outputs": [
    {
     "name": "stdout",
     "output_type": "stream",
     "text": [
      "{\"name\":\"Game from yesterday\",\"event_date\":\"03/02/25\",\"time\":\"N/A\",\"participants\":[\"Mario\",\"Carmen\",\"Maria\",\"Sofia\",\"Ana\",\"Julia\",\"Isabel\",\"Paula\",\"Victoria\"],\"number_of_participants\":9,\"not_attending\":[\"Elena\"],\"didnt_confirm\":[],\"location\":\"Indoor court\"}\n",
      "{\"name\":\"Pizza night\",\"event_date\":\"04/02/25\",\"time\":\"20:00\",\"participants\":[\"Julia\",\"Maria\",\"Sofia\",\"Ana\",\"Laura\",\"Carmen\",\"Elena\",\"Isabel\",\"Paula\"],\"number_of_participants\":9,\"not_attending\":[\"Victoria\"],\"didnt_confirm\":[],\"location\":\"Julia's place\"}\n",
      "{\"name\":\"Sauna outing\",\"event_date\":\"13/02/25\",\"time\":\"N/A\",\"participants\":[\"Sofia\",\"Ana\",\"Julia\",\"Elena\",\"Isabel\"],\"number_of_participants\":5,\"not_attending\":[\"Maria\",\"Victoria\"],\"didnt_confirm\":[\"Paula\"],\"location\":\"N/A\"}\n"
     ]
    }
   ],
   "source": [
    "for event in response.events:\n",
    "    print(event.model_dump_json())"
   ]
  },
  {
   "cell_type": "code",
   "execution_count": 320,
   "metadata": {},
   "outputs": [
    {
     "data": {
      "text/html": [
       "<div>\n",
       "<style scoped>\n",
       "    .dataframe tbody tr th:only-of-type {\n",
       "        vertical-align: middle;\n",
       "    }\n",
       "\n",
       "    .dataframe tbody tr th {\n",
       "        vertical-align: top;\n",
       "    }\n",
       "\n",
       "    .dataframe thead th {\n",
       "        text-align: right;\n",
       "    }\n",
       "</style>\n",
       "<table border=\"1\" class=\"dataframe\">\n",
       "  <thead>\n",
       "    <tr style=\"text-align: right;\">\n",
       "      <th></th>\n",
       "      <th>name</th>\n",
       "      <th>event_date</th>\n",
       "      <th>time</th>\n",
       "      <th>participants</th>\n",
       "      <th>number_of_participants</th>\n",
       "      <th>not_attending</th>\n",
       "      <th>didnt_confirm</th>\n",
       "      <th>location</th>\n",
       "    </tr>\n",
       "  </thead>\n",
       "  <tbody>\n",
       "    <tr>\n",
       "      <th>0</th>\n",
       "      <td>Game from yesterday</td>\n",
       "      <td>03/02/25</td>\n",
       "      <td>N/A</td>\n",
       "      <td>[Mario, Carmen, Maria, Sofia, Ana, Julia, Isab...</td>\n",
       "      <td>9</td>\n",
       "      <td>[Elena]</td>\n",
       "      <td>[]</td>\n",
       "      <td>Indoor court</td>\n",
       "    </tr>\n",
       "    <tr>\n",
       "      <th>1</th>\n",
       "      <td>Pizza night</td>\n",
       "      <td>04/02/25</td>\n",
       "      <td>20:00</td>\n",
       "      <td>[Julia, Maria, Sofia, Ana, Laura, Carmen, Elen...</td>\n",
       "      <td>9</td>\n",
       "      <td>[Victoria]</td>\n",
       "      <td>[]</td>\n",
       "      <td>Julia's place</td>\n",
       "    </tr>\n",
       "    <tr>\n",
       "      <th>2</th>\n",
       "      <td>Sauna outing</td>\n",
       "      <td>13/02/25</td>\n",
       "      <td>N/A</td>\n",
       "      <td>[Sofia, Ana, Julia, Elena, Isabel]</td>\n",
       "      <td>5</td>\n",
       "      <td>[Maria, Victoria]</td>\n",
       "      <td>[Paula]</td>\n",
       "      <td>N/A</td>\n",
       "    </tr>\n",
       "  </tbody>\n",
       "</table>\n",
       "</div>"
      ],
      "text/plain": [
       "                  name event_date   time  \\\n",
       "0  Game from yesterday   03/02/25    N/A   \n",
       "1          Pizza night   04/02/25  20:00   \n",
       "2         Sauna outing   13/02/25    N/A   \n",
       "\n",
       "                                        participants  number_of_participants  \\\n",
       "0  [Mario, Carmen, Maria, Sofia, Ana, Julia, Isab...                       9   \n",
       "1  [Julia, Maria, Sofia, Ana, Laura, Carmen, Elen...                       9   \n",
       "2                 [Sofia, Ana, Julia, Elena, Isabel]                       5   \n",
       "\n",
       "       not_attending didnt_confirm       location  \n",
       "0            [Elena]            []   Indoor court  \n",
       "1         [Victoria]            []  Julia's place  \n",
       "2  [Maria, Victoria]       [Paula]            N/A  "
      ]
     },
     "execution_count": 320,
     "metadata": {},
     "output_type": "execute_result"
    }
   ],
   "source": [
    "import pandas as pd\n",
    "import json\n",
    "\n",
    "pd.DataFrame([json.loads(event.model_dump_json()) for event in response.events])\n"
   ]
  },
  {
   "cell_type": "code",
   "execution_count": 321,
   "metadata": {},
   "outputs": [],
   "source": [
    "# process the messages to extract events\n",
    "class CalendarEvent(BaseModel):\n",
    "    name: str\n",
    "    date: str\n",
    "    time: str\n",
    "    participants: str\n",
    "    location: str\n",
    "    number_of_participants: int\n",
    "\n",
    "class CalendarEvents(BaseModel):\n",
    "    events: list[CalendarEvent]\n",
    "\n",
    "def process_messages(message_history):\n",
    "    \n",
    "    # Initialize the OpenAI client\n",
    "    client = OpenAI()\n",
    "\n",
    "    # Make the OpenAI API call to extract the events\n",
    "    completion = client.beta.chat.completions.parse(\n",
    "        model=\"gpt-4o-mini\",\n",
    "        messages=[\n",
    "            {\"role\": \"system\", \"content\": SYSTEM_PROMPT},\n",
    "            {\"role\": \"user\", \"content\": sample_message_history},\n",
    "        ],\n",
    "        response_format=CalendarEvents,\n",
    "    )\n",
    "\n",
    "    # Parse the response\n",
    "    response = completion.choices[0].message.parsed\n",
    "\n",
    "    return pd.DataFrame([json.loads(event.model_dump_json()) for event in response.events])\n"
   ]
  },
  {
   "cell_type": "code",
   "execution_count": 322,
   "metadata": {},
   "outputs": [
    {
     "data": {
      "text/html": [
       "<div>\n",
       "<style scoped>\n",
       "    .dataframe tbody tr th:only-of-type {\n",
       "        vertical-align: middle;\n",
       "    }\n",
       "\n",
       "    .dataframe tbody tr th {\n",
       "        vertical-align: top;\n",
       "    }\n",
       "\n",
       "    .dataframe thead th {\n",
       "        text-align: right;\n",
       "    }\n",
       "</style>\n",
       "<table border=\"1\" class=\"dataframe\">\n",
       "  <thead>\n",
       "    <tr style=\"text-align: right;\">\n",
       "      <th></th>\n",
       "      <th>name</th>\n",
       "      <th>date</th>\n",
       "      <th>time</th>\n",
       "      <th>participants</th>\n",
       "      <th>location</th>\n",
       "      <th>number_of_participants</th>\n",
       "    </tr>\n",
       "  </thead>\n",
       "  <tbody>\n",
       "    <tr>\n",
       "      <th>0</th>\n",
       "      <td>Game from yesterday</td>\n",
       "      <td>03/02/25</td>\n",
       "      <td>N/A</td>\n",
       "      <td>Maria</td>\n",
       "      <td>Indoor court</td>\n",
       "      <td>8</td>\n",
       "    </tr>\n",
       "    <tr>\n",
       "      <th>1</th>\n",
       "      <td>Pizza night</td>\n",
       "      <td>04/02/25</td>\n",
       "      <td>20:00</td>\n",
       "      <td>Julia</td>\n",
       "      <td>Julia's place</td>\n",
       "      <td>6</td>\n",
       "    </tr>\n",
       "    <tr>\n",
       "      <th>2</th>\n",
       "      <td>Sauna</td>\n",
       "      <td>13/02/25</td>\n",
       "      <td>N/A</td>\n",
       "      <td>Sofia</td>\n",
       "      <td>N/A</td>\n",
       "      <td>4</td>\n",
       "    </tr>\n",
       "  </tbody>\n",
       "</table>\n",
       "</div>"
      ],
      "text/plain": [
       "                  name      date   time participants       location  \\\n",
       "0  Game from yesterday  03/02/25    N/A        Maria   Indoor court   \n",
       "1          Pizza night  04/02/25  20:00        Julia  Julia's place   \n",
       "2                Sauna  13/02/25    N/A        Sofia            N/A   \n",
       "\n",
       "   number_of_participants  \n",
       "0                       8  \n",
       "1                       6  \n",
       "2                       4  "
      ]
     },
     "execution_count": 322,
     "metadata": {},
     "output_type": "execute_result"
    }
   ],
   "source": [
    "events_df = process_messages(sample_message_history)\n",
    "\n",
    "events_df"
   ]
  },
  {
   "cell_type": "code",
   "execution_count": 323,
   "metadata": {},
   "outputs": [
    {
     "data": {
      "text/plain": [
       "'Friday'"
      ]
     },
     "execution_count": 323,
     "metadata": {},
     "output_type": "execute_result"
    }
   ],
   "source": [
    "from datetime import datetime\n",
    "\n",
    "datetime.now().strftime(\"%A\")"
   ]
  }
 ],
 "metadata": {
  "kernelspec": {
   "display_name": "base",
   "language": "python",
   "name": "python3"
  },
  "language_info": {
   "codemirror_mode": {
    "name": "ipython",
    "version": 3
   },
   "file_extension": ".py",
   "mimetype": "text/x-python",
   "name": "python",
   "nbconvert_exporter": "python",
   "pygments_lexer": "ipython3",
   "version": "3.12.7"
  }
 },
 "nbformat": 4,
 "nbformat_minor": 2
}
